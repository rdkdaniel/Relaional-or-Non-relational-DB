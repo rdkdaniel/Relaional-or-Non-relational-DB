{
  "nbformat": 4,
  "nbformat_minor": 0,
  "metadata": {
    "colab": {
      "name": "Relational and non-relational databases",
      "provenance": [],
      "authorship_tag": "ABX9TyP25Wx4dcVb0kmdHJc/FCdV",
      "include_colab_link": true
    },
    "kernelspec": {
      "name": "python3",
      "display_name": "Python 3"
    },
    "language_info": {
      "name": "python"
    }
  },
  "cells": [
    {
      "cell_type": "markdown",
      "metadata": {
        "id": "view-in-github",
        "colab_type": "text"
      },
      "source": [
        "<a href=\"https://colab.research.google.com/github/rdkdaniel/Relaional-or-Non-relational-DB/blob/main/Relational_and_non_relational_databases.ipynb\" target=\"_parent\"><img src=\"https://colab.research.google.com/assets/colab-badge.svg\" alt=\"Open In Colab\"/></a>"
      ]
    },
    {
      "cell_type": "code",
      "execution_count": 7,
      "metadata": {
        "id": "502OlfcFjvjj"
      },
      "outputs": [],
      "source": [
        "#Good read: https://www.pluralsight.com/blog/software-development/relational-vs-non-relational-databases\n",
        "#When comparing relational and non-relational db it is important toremember that each has its own place.\n",
        "#That is, they are important depending on the context"
      ]
    },
    {
      "cell_type": "code",
      "source": [
        "#Relational databases\n",
        "#Relational Database Management System (RDBMS) or SQL database, stores data in tables and rows also referred to as records"
      ],
      "metadata": {
        "id": "i8y4T1VIkJ0O"
      },
      "execution_count": 2,
      "outputs": []
    },
    {
      "cell_type": "code",
      "source": [
        "#A relational database works by linking information from multiple tables through the use of “keys.” \n",
        "#A key is a unique identifier which can be assigned to a row of data contained within a table"
      ],
      "metadata": {
        "id": "nueZyMmNkPxf"
      },
      "execution_count": 3,
      "outputs": []
    },
    {
      "cell_type": "code",
      "source": [
        "#Non-relational databases\n",
        "#The non-relational database, or NoSQL database, stores data. However, unlike the relational database, there are no tables, rows, primary keys or foreign keys.  \n",
        "#Instead, the non-relational database uses a storage model optimized for specific requirements of the type of data being stored.\n",
        "#E.g. NoSQL databases are MongoDB, Apache Cassandra, Redis, Couchbase and Apache HBase"
      ],
      "metadata": {
        "id": "JU0fXjNqkVqN"
      },
      "execution_count": 4,
      "outputs": []
    },
    {
      "cell_type": "code",
      "source": [
        "#Document data stores\n",
        "#A document data store manages a set of named string fields and object data values in an entity referred to as a “document” typically stored in the form of JSON documents\n",
        "#which can be encoded in a variety of ways, including XML, YAML, JSON, BSON or as plain text"
      ],
      "metadata": {
        "id": "-CJ83rJbkjCe"
      },
      "execution_count": 5,
      "outputs": []
    },
    {
      "cell_type": "code",
      "source": [
        "#Other non relational DB include  - Columnar (or column oriented) data stores, Key-value stores, Document stores and Graph databases"
      ],
      "metadata": {
        "id": "Fl_EIx5Lkt-l"
      },
      "execution_count": 6,
      "outputs": []
    },
    {
      "cell_type": "code",
      "source": [
        ""
      ],
      "metadata": {
        "id": "MwVKm_2Mk7aH"
      },
      "execution_count": null,
      "outputs": []
    }
  ]
}